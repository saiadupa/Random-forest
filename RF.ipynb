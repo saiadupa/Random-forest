{
 "cells": [
  {
   "cell_type": "code",
   "execution_count": 8,
   "id": "0624d4ed",
   "metadata": {},
   "outputs": [],
   "source": [
    "import pandas as pd\n",
    "from sklearn.ensemble import RandomForestClassifier\n",
    "from sklearn.model_selection import train_test_split\n",
    "from sklearn.metrics import classification_report\n",
    "from sklearn.model_selection import GridSearchCV"
   ]
  },
  {
   "cell_type": "code",
   "execution_count": 9,
   "id": "77ddf567",
   "metadata": {},
   "outputs": [],
   "source": [
    "train_data = pd.read_csv(\"fashion-mnist_train.csv\")\n",
    "final_test_data = pd.read_csv(\"fashion-mnist_test.csv\")"
   ]
  },
  {
   "cell_type": "code",
   "execution_count": 10,
   "id": "73fcb0a5",
   "metadata": {},
   "outputs": [],
   "source": [
    "X_train = train_data.iloc[:, 1:]\n",
    "y_train = train_data.label.astype(\"str\")\n",
    "\n",
    "X_final_test = final_test_data.iloc[:, 1:]\n",
    "y_final_test = final_test_data.label.astype(\"str\")"
   ]
  },
  {
   "cell_type": "code",
   "execution_count": 11,
   "id": "4ac74682",
   "metadata": {},
   "outputs": [],
   "source": [
    "x_train, x_test, y_train_v, y_test_v = train_test_split(X_train, y_train, test_size=0.3, random_state=2)"
   ]
  },
  {
   "cell_type": "code",
   "execution_count": null,
   "id": "f8197116",
   "metadata": {},
   "outputs": [],
   "source": [
    "rf = RandomForestClassifier()\n",
    "rf.fit(x_train, y_train_v)\n",
    "\n",
    "y_pred_train = rf.predict(x_train)\n",
    "y_pred_test = rf.predict(x_test)\n",
    "\n",
    "print(\"Training metrics:\")\n",
    "print(classification_report(y_true=y_train_v, y_pred=y_pred_train))\n",
    "\n",
    "print(\"Test data metrics:\")\n",
    "print(classification_report(y_true=y_test_v, y_pred=y_pred_test))\n",
    "\n",
    "y_pred_test_final = rf.predict(X_final_test)\n",
    "\n",
    "print(\"Final Test data metrics:\")\n",
    "print(classification_report(y_true=y_final_test, y_pred=y_pred_test_final))"
   ]
  },
  {
   "cell_type": "code",
   "execution_count": null,
   "id": "55c5b495",
   "metadata": {},
   "outputs": [],
   "source": [
    "param_grid = {'n_estimators': [100, 200], 'min_samples_leaf': [2, 3]}\n",
    "clf = RandomForestClassifier()\n",
    "grid_search = GridSearchCV(clf, param_grid=param_grid)\n",
    "model_grid_search = grid_search.fit(x_train, y_train_v)\n",
    "\n",
    "y_pred_train_gs = model_grid_search.predict(x_train)\n",
    "y_pred_test_gs = model_grid_search.predict(x_test)\n",
    "\n",
    "print(\"Training metrics (Grid Search):\")\n",
    "print(classification_report(y_true=y_train_v, y_pred=y_pred_train_gs))\n",
    "\n",
    "print(\"Test data metrics (Grid Search):\")\n",
    "print(classification_report(y_true=y_test_v, y_pred=y_pred_test_gs))\n",
    "\n",
    "y_pred_test_final_gs = model_grid_search.predict(X_final_test)\n",
    "\n",
    "print(\"Final Test data metrics (Grid Search):\")\n",
    "print(classification_report(y_true=y_final_test, y_pred=y_pred_test_final_gs))"
   ]
  },
  {
   "cell_type": "code",
   "execution_count": null,
   "id": "a01278d4",
   "metadata": {},
   "outputs": [],
   "source": [
    "kmeans = KMeans(n_clusters=10, init='k-means++')\n",
    "\n",
    "kmeans.fit(X_train)\n",
    "X_train[\"k_means_label\"] = kmeans.labels_.astype('str')\n",
    "\n",
    "kmeans.fit(X_final_test)\n",
    "X_final_test[\"k_means_label\"] = kmeans.labels_.astype('str')\n",
    "\n",
    "x_train, x_test, y_train_v, y_test_v = train_test_split(X_train, y_train, test_size=0.3, random_state=2)\n",
    "\n",
    "model_kmeans = grid_search.fit(x_train, y_train_v)\n",
    "\n",
    "y_pred_train_kmeans = model_kmeans.predict(x_train)\n",
    "y_pred_test_kmeans = model_kmeans.predict(x_test)\n",
    "\n",
    "print(\"Training metrics (K-means):\")\n",
    "print(classification_report(y_true=y_train_v, y_pred=y_pred_train_kmeans))\n",
    "\n",
    "print(\"Test data metrics (K-means):\")\n",
    "print(classification_report(y_true=y_test_v, y_pred=y_pred_test_kmeans))\n",
    "\n",
    "y_pred_test_final_kmeans = model_kmeans.predict(X_final_test)\n",
    "\n",
    "print(\"Final Test data metrics (K-means):\")\n",
    "print(classification_report(y_true=y_final_test, y_pred=y_pred_test_final_kmeans))"
   ]
  },
  {
   "cell_type": "code",
   "execution_count": null,
   "id": "eba82558",
   "metadata": {},
   "outputs": [],
   "source": [
    "sk_fold = StratifiedKFold(n_splits=5, shuffle=True)\n",
    "\n",
    "for train_index, test_index in sk_fold.split(x_train, y_train_v):\n",
    "    train = X_train.iloc[train_index, :]\n",
    "    y_trn_k = y_train_v.iloc[train_index]\n",
    "    test = X_train.iloc[test_index, :]\n",
    "    y_tst_k = y_train_v.iloc[test_index]\n",
    "\n",
    "    model_kmeans.fit(train, y_trn_k)\n",
    "    y_pred_train_cv = model_kmeans.predict(train)\n",
    "\n",
    "    y_pred_test_cv = model_kmeans.predict(test)\n",
    "\n",
    "    print(\"Training metrics (Cross Validation):\")\n",
    "    print(classification_report(y_true=y_trn_k, y_pred=y_pred_train_cv))\n",
    "\n",
    "    print(\"Test data metrics (Cross Validation):\")\n",
    "    print(classification_report(y_true=y_tst_k, y_pred=y_pred_test_cv))"
   ]
  },
  {
   "cell_type": "code",
   "execution_count": null,
   "id": "784b5291",
   "metadata": {},
   "outputs": [],
   "source": [
    "y_pred_train_final_cv = model_kmeans.predict(X_train)\n",
    "\n",
    "y_pred_test_final_cv = model_kmeans.predict(X_final_test)\n",
    "\n",
    "print(\"Training metrics (Cross Validation):\")\n",
    "print(classification_report(y_true=y_train, y_pred=y_pred_train_final_cv))\n",
    "\n",
    "print(\"Final Test data metrics (Cross Validation):\")\n",
    "print(classification_report(y_true=y_final_test, y_pred=y_pred_test_final_cv))"
   ]
  },
  {
   "cell_type": "code",
   "execution_count": null,
   "id": "673b85c0",
   "metadata": {},
   "outputs": [],
   "source": [
    "    "
   ]
  }
 ],
 "metadata": {
  "kernelspec": {
   "display_name": "Python 3 (ipykernel)",
   "language": "python",
   "name": "python3"
  },
  "language_info": {
   "codemirror_mode": {
    "name": "ipython",
    "version": 3
   },
   "file_extension": ".py",
   "mimetype": "text/x-python",
   "name": "python",
   "nbconvert_exporter": "python",
   "pygments_lexer": "ipython3",
   "version": "3.9.13"
  }
 },
 "nbformat": 4,
 "nbformat_minor": 5
}
